{
 "cells": [
  {
   "cell_type": "code",
   "execution_count": 6,
   "id": "ec5571e7",
   "metadata": {
    "scrolled": true
   },
   "outputs": [
    {
     "name": "stdout",
     "output_type": "stream",
     "text": [
      "C1: 3 + 5j\n",
      "C2: 1 + 2j\n",
      "C1 + C2: 4 + 7j\n"
     ]
    }
   ],
   "source": [
    "class Complex:\n",
    "    real_part = 0\n",
    "    img_part = 0\n",
    "\n",
    "    def __init__(self, real, imag):\n",
    "        self.real_part = real\n",
    "        self.img_part = imag\n",
    "\n",
    "    def add(self, other):\n",
    "        result_real = self.real_part + other.real_part\n",
    "        result_imag = self.img_part + other.img_part\n",
    "        return Complex(result_real, result_imag)\n",
    "\n",
    "C1 = Complex(3, 5)\n",
    "C2 = Complex(1, 2)\n",
    "C3 = Complex(0, 0)\n",
    "\n",
    "C3 = C1.add(C2)\n",
    "\n",
    "print(f\"C1: {C1.real_part} + {C1.img_part}j\")\n",
    "print(f\"C2: {C2.real_part} + {C2.img_part}j\")\n",
    "print(f\"C1 + C2: {C3.real_part} + {C3.img_part}j\")\n",
    "\n",
    "\n"
   ]
  },
  {
   "cell_type": "code",
   "execution_count": null,
   "id": "2b0de6e3",
   "metadata": {},
   "outputs": [],
   "source": []
  }
 ],
 "metadata": {
  "kernelspec": {
   "display_name": "Python 3 (ipykernel)",
   "language": "python",
   "name": "python3"
  },
  "language_info": {
   "codemirror_mode": {
    "name": "ipython",
    "version": 3
   },
   "file_extension": ".py",
   "mimetype": "text/x-python",
   "name": "python",
   "nbconvert_exporter": "python",
   "pygments_lexer": "ipython3",
   "version": "3.11.3"
  }
 },
 "nbformat": 4,
 "nbformat_minor": 5
}
