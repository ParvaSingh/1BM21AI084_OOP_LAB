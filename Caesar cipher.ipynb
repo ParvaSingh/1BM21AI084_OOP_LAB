{
  "nbformat": 4,
  "nbformat_minor": 0,
  "metadata": {
    "colab": {
      "provenance": []
    },
    "kernelspec": {
      "name": "python3",
      "display_name": "Python 3"
    },
    "language_info": {
      "name": "python"
    }
  },
  "cells": [
    {
      "cell_type": "code",
      "execution_count": 1,
      "metadata": {
        "colab": {
          "base_uri": "https://localhost:8080/"
        },
        "id": "CSujmTHvTGL2",
        "outputId": "5f5928c3-af06-45bf-a171-cb72e9ecf726"
      },
      "outputs": [
        {
          "output_type": "stream",
          "name": "stdout",
          "text": [
            "Encrypted Text: Khoor, Zruog!\n",
            "Decrypted Text: Hello, World!\n"
          ]
        }
      ],
      "source": [
        "def encrypt(text, shift):\n",
        "    encrypted_text = \"\"\n",
        "\n",
        "    for char in text:\n",
        "        if char.isalpha():\n",
        "            # Determine the case (upper or lower) of the character\n",
        "            is_upper = char.isupper()\n",
        "\n",
        "            # Apply the Caesar cipher shift to the character\n",
        "            shifted_char = chr((ord(char) - ord('A' if is_upper else 'a') + shift) % 26 + ord('A' if is_upper else 'a'))\n",
        "\n",
        "            # Append the shifted character to the encrypted text\n",
        "            encrypted_text += shifted_char\n",
        "        else:\n",
        "            # If the character is not alphabetic, leave it unchanged\n",
        "            encrypted_text += char\n",
        "\n",
        "    return encrypted_text\n",
        "\n",
        "def decrypt(encrypted_text, shift):\n",
        "    # Decryption is the same as encryption but with a negative shift\n",
        "    return encrypt(encrypted_text, -shift)\n",
        "\n",
        "# Example usage:\n",
        "original_text = \"Hello, World!\"\n",
        "shift_value = 3\n",
        "\n",
        "# Encrypt the text\n",
        "encrypted_result = encrypt(original_text, shift_value)\n",
        "print(f\"Encrypted Text: {encrypted_result}\")\n",
        "\n",
        "# Decrypt the text\n",
        "decrypted_result = decrypt(encrypted_result, shift_value)\n",
        "print(f\"Decrypted Text: {decrypted_result}\")\n"
      ]
    }
  ]
}