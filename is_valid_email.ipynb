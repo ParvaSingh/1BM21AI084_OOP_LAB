{
  "nbformat": 4,
  "nbformat_minor": 0,
  "metadata": {
    "colab": {
      "provenance": []
    },
    "kernelspec": {
      "name": "python3",
      "display_name": "Python 3"
    },
    "language_info": {
      "name": "python"
    }
  },
  "cells": [
    {
      "cell_type": "code",
      "execution_count": 1,
      "metadata": {
        "colab": {
          "base_uri": "https://localhost:8080/",
          "height": 0
        },
        "id": "dGf4J_XoOiye",
        "outputId": "de002e3d-5c53-49eb-b6bb-159b827a53c9"
      },
      "outputs": [
        {
          "output_type": "stream",
          "name": "stdout",
          "text": [
            "The email address 'example123@example.com' is valid.\n"
          ]
        }
      ],
      "source": [
        "import re\n",
        "\n",
        "def is_valid_email(email):\n",
        "    # Define the email pattern using regular expressions\n",
        "    pattern = r'^[a-zA-Z0-9][a-zA-Z0-9._%+-]{0,63}@[a-zA-Z0-9.-]+\\.[a-zA-Z]{2,}$'\n",
        "\n",
        "    # Use re.match to check if the email matches the pattern\n",
        "    match = re.match(pattern, email)\n",
        "\n",
        "    # Additional checks for maximum length\n",
        "    if match and len(email) <= 256:\n",
        "        return True\n",
        "    else:\n",
        "        return False\n",
        "\n",
        "# Example usage:\n",
        "email_address = \"example123@example.com\"\n",
        "result = is_valid_email(email_address)\n",
        "\n",
        "if result:\n",
        "    print(f\"The email address '{email_address}' is valid.\")\n",
        "else:\n",
        "    print(f\"The email address '{email_address}' is not valid.\")\n"
      ]
    }
  ]
}