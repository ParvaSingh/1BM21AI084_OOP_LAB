{
  "nbformat": 4,
  "nbformat_minor": 0,
  "metadata": {
    "colab": {
      "provenance": []
    },
    "kernelspec": {
      "name": "python3",
      "display_name": "Python 3"
    },
    "language_info": {
      "name": "python"
    }
  },
  "cells": [
    {
      "cell_type": "code",
      "execution_count": 5,
      "metadata": {
        "colab": {
          "base_uri": "https://localhost:8080/"
        },
        "id": "gEr1cuIqKj6u",
        "outputId": "60fc5584-1e13-47bd-d636-107174c35689"
      },
      "outputs": [
        {
          "output_type": "stream",
          "name": "stdout",
          "text": [
            "The largest element in the list is: 20\n"
          ]
        }
      ],
      "source": [
        "def find_largest_element(lst):\n",
        "    if not lst:\n",
        "        return None  # Return None for an empty list\n",
        "    else:\n",
        "        largest = lst[0]  # Assume the first element is the largest\n",
        "\n",
        "        for element in lst:\n",
        "            if element > largest:\n",
        "                largest = element\n",
        "\n",
        "        return largest\n",
        "\n",
        "# Example usage:\n",
        "my_list = [10, 5, 8, 20, 3]\n",
        "result = find_largest_element(my_list)\n",
        "\n",
        "if result is not None:\n",
        "    print(f\"The largest element in the list is: {result}\")\n",
        "else:\n",
        "    print(\"The list is empty.\")\n"
      ]
    },
    {
      "cell_type": "code",
      "source": [
        "\n"
      ],
      "metadata": {
        "id": "Fm7l9RfaLL68"
      },
      "execution_count": null,
      "outputs": []
    },
    {
      "cell_type": "code",
      "source": [],
      "metadata": {
        "id": "o5GtvQc5Lg-L"
      },
      "execution_count": null,
      "outputs": []
    }
  ]
}