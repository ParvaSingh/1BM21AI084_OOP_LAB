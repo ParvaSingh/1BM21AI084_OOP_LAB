{
  "nbformat": 4,
  "nbformat_minor": 0,
  "metadata": {
    "colab": {
      "provenance": []
    },
    "kernelspec": {
      "name": "python3",
      "display_name": "Python 3"
    },
    "language_info": {
      "name": "python"
    }
  },
  "cells": [
    {
      "cell_type": "code",
      "execution_count": 2,
      "metadata": {
        "colab": {
          "base_uri": "https://localhost:8080/"
        },
        "id": "gN-q7IGWb6tR",
        "outputId": "b2f0274b-ba9f-4816-c7aa-9b4b154e32bf"
      },
      "outputs": [
        {
          "output_type": "stream",
          "name": "stdout",
          "text": [
            "May God bless you, \n",
            "Have a sunshine on you,\n",
            "Happy Birthday to you !\n"
          ]
        }
      ],
      "source": [
        "class Songs:\n",
        "    def __init__(self, lyrics):\n",
        "        self.lyrics = lyrics\n",
        "\n",
        "    def sing_me_a_song(self):\n",
        "        for line in self.lyrics:\n",
        "            print(line)\n",
        "\n",
        "# Define a variable\n",
        "happy_bday = Songs([\"May God bless you, \",\n",
        "                     \"Have a sunshine on you,\",\n",
        "                     \"Happy Birthday to you !\"])\n",
        "\n",
        "# Call the sing_me_a_song method on this variable\n",
        "happy_bday.sing_me_a_song()\n"
      ]
    }
  ]
}