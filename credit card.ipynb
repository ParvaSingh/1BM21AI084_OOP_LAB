{
 "cells": [
  {
   "cell_type": "code",
   "execution_count": 1,
   "id": "c7e5a9cf",
   "metadata": {},
   "outputs": [
    {
     "name": "stdout",
     "output_type": "stream",
     "text": [
      "Current balance: 0\n",
      "Deposited $500. New balance: $500\n",
      "Withdrew $200. New balance: $300\n",
      "Insufficient funds.\n"
     ]
    }
   ],
   "source": [
    "class CreditCard:\n",
    "    def __init__(self, limit):\n",
    "        self.__limit = limit  # private variable\n",
    "        self.__balance = 0  # private variable\n",
    "\n",
    "    def get_balance(self):\n",
    "        return self.__balance\n",
    "\n",
    "    def deposit(self, amount):\n",
    "        if amount > 0:\n",
    "            self.__balance += amount\n",
    "            print(f\"Deposited ${amount}. New balance: ${self.__balance}\")\n",
    "        else:\n",
    "            print(\"Deposit amount must be greater than zero.\")\n",
    "\n",
    "    def withdraw(self, amount):\n",
    "        if amount > 0 and amount <= self.__balance and amount <= self.__limit:\n",
    "            self.__balance -= amount\n",
    "            print(f\"Withdrew ${amount}. New balance: ${self.__balance}\")\n",
    "        elif amount <= 0:\n",
    "            print(\"Withdrawal amount must be greater than zero.\")\n",
    "        elif amount > self.__balance:\n",
    "            print(\"Insufficient funds.\")\n",
    "        elif amount > self.__limit:\n",
    "            print(\"Withdrawal amount exceeds the credit limit.\")\n",
    "credit_card = CreditCard(limit=1000)\n",
    "\n",
    "print(\"Current balance:\", credit_card.get_balance())\n",
    "credit_card.deposit(500)\n",
    "credit_card.withdraw(200)\n",
    "credit_card.withdraw(1500)"
   ]
  },
  {
   "cell_type": "code",
   "execution_count": null,
   "id": "a3210786",
   "metadata": {},
   "outputs": [],
   "source": []
  }
 ],
 "metadata": {
  "kernelspec": {
   "display_name": "Python 3 (ipykernel)",
   "language": "python",
   "name": "python3"
  },
  "language_info": {
   "codemirror_mode": {
    "name": "ipython",
    "version": 3
   },
   "file_extension": ".py",
   "mimetype": "text/x-python",
   "name": "python",
   "nbconvert_exporter": "python",
   "pygments_lexer": "ipython3",
   "version": "3.11.3"
  }
 },
 "nbformat": 4,
 "nbformat_minor": 5
}
