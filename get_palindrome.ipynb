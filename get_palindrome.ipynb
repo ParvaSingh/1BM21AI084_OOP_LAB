{
  "nbformat": 4,
  "nbformat_minor": 0,
  "metadata": {
    "colab": {
      "provenance": []
    },
    "kernelspec": {
      "name": "python3",
      "display_name": "Python 3"
    },
    "language_info": {
      "name": "python"
    }
  },
  "cells": [
    {
      "cell_type": "code",
      "execution_count": 1,
      "metadata": {
        "colab": {
          "base_uri": "https://localhost:8080/"
        },
        "id": "OuFutdxZWiZY",
        "outputId": "b259795c-2193-460a-e258-72d78131b2f6"
      },
      "outputs": [
        {
          "output_type": "stream",
          "name": "stdout",
          "text": [
            "Palindromes in the string: ['level', 'radar', 'madam', 'deed', 'civic']\n"
          ]
        }
      ],
      "source": [
        "def is_palindrome(word):\n",
        "    # Helper function to check if a word is a palindrome\n",
        "    return word == word[::-1]\n",
        "\n",
        "def get_palindromes(input_string):\n",
        "    # Split the input string into words\n",
        "    words = input_string.split()\n",
        "\n",
        "    # Filter palindromes using the is_palindrome function\n",
        "    palindromes = [word for word in words if is_palindrome(word)]\n",
        "\n",
        "    return palindromes\n",
        "\n",
        "# Example usage:\n",
        "input_string = \"level radar python madam deed civic\"\n",
        "result = get_palindromes(input_string)\n",
        "print(\"Palindromes in the string:\", result)\n"
      ]
    }
  ]
}