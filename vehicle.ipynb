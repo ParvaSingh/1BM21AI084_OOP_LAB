{
 "cells": [
  {
   "cell_type": "code",
   "execution_count": 1,
   "id": "3e87c23c",
   "metadata": {},
   "outputs": [
    {
     "name": "stdout",
     "output_type": "stream",
     "text": [
      "{'type_of_vehicle': 'car', 'no_of_wheelself': 4, 'start': 'self start'}\n"
     ]
    }
   ],
   "source": [
    "class vechicle:\n",
    "    def __init__(self,type_of_vechicle,no_of_wheel,start):\n",
    "        self.type_of_vechicle=type_of_vechicle\n",
    "        self.no_of_wheel=no_of_wheel\n",
    "        self.start=start\n",
    "    \n",
    "    def start_(self):\n",
    "        pass\n",
    "    def display(self):\n",
    "        v={\n",
    "            \"type_of_vehicle\":self.type_of_vechicle,\n",
    "            \"no_of_wheelself\":self.no_of_wheel,\n",
    "            \"start\":self.start\n",
    "        }\n",
    "        print(v)\n",
    "c=vechicle(\"car\",4,\"self start\")\n",
    "bike=vechicle(\"bike\",2,\"kick_start\")\n",
    "bus=vechicle(\"Bus\",8,\"self_start\")\n",
    "c.display()"
   ]
  },
  {
   "cell_type": "code",
   "execution_count": 2,
   "id": "9b83c3e5",
   "metadata": {},
   "outputs": [
    {
     "name": "stdout",
     "output_type": "stream",
     "text": [
      "{'type_of_vehicle': 'bike', 'no_of_wheelself': 2, 'start': 'kick_start'}\n"
     ]
    }
   ],
   "source": [
    "bike.display()"
   ]
  },
  {
   "cell_type": "code",
   "execution_count": 3,
   "id": "e9b8ecd2",
   "metadata": {},
   "outputs": [
    {
     "name": "stdout",
     "output_type": "stream",
     "text": [
      "{'type_of_vehicle': 'Bus', 'no_of_wheelself': 8, 'start': 'self_start'}\n"
     ]
    }
   ],
   "source": [
    "bus.display()"
   ]
  },
  {
   "cell_type": "code",
   "execution_count": null,
   "id": "6f5b29fb",
   "metadata": {},
   "outputs": [],
   "source": []
  }
 ],
 "metadata": {
  "kernelspec": {
   "display_name": "Python 3 (ipykernel)",
   "language": "python",
   "name": "python3"
  },
  "language_info": {
   "codemirror_mode": {
    "name": "ipython",
    "version": 3
   },
   "file_extension": ".py",
   "mimetype": "text/x-python",
   "name": "python",
   "nbconvert_exporter": "python",
   "pygments_lexer": "ipython3",
   "version": "3.11.3"
  }
 },
 "nbformat": 4,
 "nbformat_minor": 5
}
