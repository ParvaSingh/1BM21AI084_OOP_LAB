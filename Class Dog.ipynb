{
  "nbformat": 4,
  "nbformat_minor": 0,
  "metadata": {
    "colab": {
      "provenance": []
    },
    "kernelspec": {
      "name": "python3",
      "display_name": "Python 3"
    },
    "language_info": {
      "name": "python"
    }
  },
  "cells": [
    {
      "cell_type": "code",
      "execution_count": 2,
      "metadata": {
        "colab": {
          "base_uri": "https://localhost:8080/"
        },
        "id": "RQKAsFgRmkk6",
        "outputId": "ddb2e7ac-29b0-4880-b0a9-d80d0ffe70ac"
      },
      "outputs": [
        {
          "output_type": "stream",
          "name": "stdout",
          "text": [
            "Buddy says: bow! bow!\n",
            "Peda's name has been set successfully.\n"
          ]
        }
      ],
      "source": [
        "class Dog:\n",
        "    def __init__(self, name, size, breed='unknown', dob='unknown'):\n",
        "        self.name = name.title()  # Convert the name to title case\n",
        "        self.size = size\n",
        "        self.breed = breed\n",
        "        self.dob = dob\n",
        "\n",
        "    def bark(self):\n",
        "        print(f\"{self.name} says: bow! bow!\")\n",
        "\n",
        "    def set_name(self, new_name):\n",
        "        if 2 <= len(new_name) <= 30 and new_name.isalpha():\n",
        "            self.name = new_name.title()\n",
        "            print(f\"{self.name}'s name has been set successfully.\")\n",
        "        else:\n",
        "            print(\"Invalid name. Please enter a name between 2 and 30 alphabetical characters.\")\n",
        "\n",
        "    def age(self, current_year):\n",
        "        if self.dob == 'unknown':\n",
        "            print(f\"The age of {self.name} cannot be calculated without a valid date of birth.\")\n",
        "        else:\n",
        "            birth_year = int(self.dob.split(\"/\")[-1])\n",
        "            dog_years = (current_year - birth_year) * 7\n",
        "            print(f\"{self.name} is approximately {dog_years} dog years old.\")\n",
        "\n",
        "\n",
        "dog_instance = Dog(name=\"Buddy\", size=\"Medium\", breed=\"Labrador\", dob=\"15/05/2018\")\n",
        "\n",
        "dog_instance.bark()\n",
        "dog_instance.set_name(\"Peda\")"
      ]
    }
  ]
}