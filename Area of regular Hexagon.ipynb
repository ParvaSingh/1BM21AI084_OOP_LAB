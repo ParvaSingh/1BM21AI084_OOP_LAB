{
  "nbformat": 4,
  "nbformat_minor": 0,
  "metadata": {
    "colab": {
      "provenance": []
    },
    "kernelspec": {
      "name": "python3",
      "display_name": "Python 3"
    },
    "language_info": {
      "name": "python"
    }
  },
  "cells": [
    {
      "cell_type": "code",
      "execution_count": 6,
      "metadata": {
        "colab": {
          "base_uri": "https://localhost:8080/"
        },
        "id": "gEr1cuIqKj6u",
        "outputId": "8e66efb0-5418-4829-ebb1-0a9fd790f849"
      },
      "outputs": [
        {
          "output_type": "stream",
          "name": "stdout",
          "text": [
            "The area of a regular hexagon with side length 5 is: 64.9519052838329\n"
          ]
        }
      ],
      "source": [
        "import math\n",
        "\n",
        "def hexagon_area(side_length):\n",
        "    if side_length <= 0:\n",
        "        return \"Side length must be positive.\"\n",
        "    else:\n",
        "        area = (3 * math.sqrt(3) / 2) * side_length**2\n",
        "        return area\n",
        "\n",
        "side_length = 5\n",
        "result = hexagon_area(side_length)\n",
        "print(f\"The area of a regular hexagon with side length {side_length} is: {result}\")"
      ]
    }
  ]
}