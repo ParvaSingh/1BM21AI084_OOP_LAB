{
  "nbformat": 4,
  "nbformat_minor": 0,
  "metadata": {
    "colab": {
      "provenance": []
    },
    "kernelspec": {
      "name": "python3",
      "display_name": "Python 3"
    },
    "language_info": {
      "name": "python"
    }
  },
  "cells": [
    {
      "cell_type": "code",
      "execution_count": 4,
      "metadata": {
        "colab": {
          "base_uri": "https://localhost:8080/"
        },
        "id": "9FcZ8R9jYxpX",
        "outputId": "c2fd09e5-e507-4b90-a28e-a42e785b16fb"
      },
      "outputs": [
        {
          "output_type": "stream",
          "name": "stdout",
          "text": [
            "Peda's age: 21\n",
            "After celebrating birthday, Peda's age: 22\n"
          ]
        }
      ],
      "source": [
        "class BirthdayBoy:\n",
        "    def __init__(self, name, age):\n",
        "        self.name = name\n",
        "        self.age = age\n",
        "\n",
        "    def celebrate_birthday(self):\n",
        "        self.age += 1\n",
        "\n",
        "# Creating an instance of the BirthdayBoy class\n",
        "birthday_person = BirthdayBoy(name=\"Peda\", age=21)\n",
        "\n",
        "# Printing the initial age\n",
        "print(f\"{birthday_person.name}'s age: {birthday_person.age}\")\n",
        "\n",
        "# Calling the celebrate_birthday method to increase the age\n",
        "birthday_person.celebrate_birthday()\n",
        "\n",
        "# Printing the updated age\n",
        "print(f\"After celebrating birthday, {birthday_person.name}'s age: {birthday_person.age}\")\n"
      ]
    }
  ]
}