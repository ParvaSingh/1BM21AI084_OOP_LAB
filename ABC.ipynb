{
 "cells": [
  {
   "cell_type": "code",
   "execution_count": 1,
   "id": "e261aa01",
   "metadata": {},
   "outputs": [
    {
     "name": "stdout",
     "output_type": "stream",
     "text": [
      "Sedan Mileage: 25\n",
      "SUV Mileage: 20\n",
      "Electric Car Mileage: No fuel consumption for electric cars\n"
     ]
    }
   ],
   "source": [
    "from abc import ABC, abstractmethod\n",
    "\n",
    "class Car(ABC):\n",
    "    @abstractmethod\n",
    "    def mileage(self):\n",
    "        pass\n",
    "\n",
    "class Sedan(Car):\n",
    "    def mileage(self):\n",
    "        return 25\n",
    "\n",
    "class SUV(Car):\n",
    "    def mileage(self):\n",
    "        return 20\n",
    "\n",
    "class ElectricCar(Car):\n",
    "    def mileage(self):\n",
    "        return \"No fuel consumption for electric cars\"\n",
    "\n",
    "sedan_car = Sedan()\n",
    "suv_car = SUV()\n",
    "electric_car = ElectricCar()\n",
    "\n",
    "print(\"Sedan Mileage:\", sedan_car.mileage())\n",
    "print(\"SUV Mileage:\", suv_car.mileage())\n",
    "print(\"Electric Car Mileage:\", electric_car.mileage())\n"
   ]
  },
  {
   "cell_type": "code",
   "execution_count": null,
   "id": "cd63646a",
   "metadata": {},
   "outputs": [],
   "source": []
  }
 ],
 "metadata": {
  "kernelspec": {
   "display_name": "Python 3 (ipykernel)",
   "language": "python",
   "name": "python3"
  },
  "language_info": {
   "codemirror_mode": {
    "name": "ipython",
    "version": 3
   },
   "file_extension": ".py",
   "mimetype": "text/x-python",
   "name": "python",
   "nbconvert_exporter": "python",
   "pygments_lexer": "ipython3",
   "version": "3.11.3"
  }
 },
 "nbformat": 4,
 "nbformat_minor": 5
}
